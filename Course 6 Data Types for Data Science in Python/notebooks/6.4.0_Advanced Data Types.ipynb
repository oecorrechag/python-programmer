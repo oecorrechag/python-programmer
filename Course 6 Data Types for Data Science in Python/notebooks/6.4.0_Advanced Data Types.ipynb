{
 "cells": [
  {
   "cell_type": "code",
   "execution_count": 1,
   "metadata": {},
   "outputs": [],
   "source": [
    "%load_ext autoreload\n",
    "%autoreload 2"
   ]
  },
  {
   "cell_type": "code",
   "execution_count": 15,
   "metadata": {},
   "outputs": [],
   "source": [
    "import pandas as pd\n",
    "\n",
    "from collections import Counter, defaultdict, namedtuple\n",
    "from dataclasses import dataclass\n",
    "\n",
    "pd.set_option('display.max_columns', None)\n",
    "pd.set_option('display.max_rows', None)\n",
    "import warnings\n",
    "warnings.filterwarnings(\"ignore\")"
   ]
  },
  {
   "cell_type": "code",
   "execution_count": 3,
   "metadata": {},
   "outputs": [],
   "source": [
    "import sys\n",
    "sys.path.append(\"../../../\") \n",
    "\n",
    "from utils.paths import make_dir_line\n",
    "\n",
    "modality = 'c'\n",
    "project = 'Data Types for Data Science in Python'\n",
    "data = make_dir_line(modality, project)\n",
    "\n",
    "raw = data('raw')"
   ]
  },
  {
   "cell_type": "markdown",
   "metadata": {},
   "source": [
    "# 6.4.0 Advanced Data Types\n",
    "\n",
    "## 6.4.2 Using Counter on lists"
   ]
  },
  {
   "cell_type": "code",
   "execution_count": 4,
   "metadata": {},
   "outputs": [],
   "source": [
    "from info import penguins2 as penguins"
   ]
  },
  {
   "cell_type": "code",
   "execution_count": 5,
   "metadata": {},
   "outputs": [
    {
     "name": "stdout",
     "output_type": "stream",
     "text": [
      "Counter({'MALE': 15, 'FEMALE': 5})\n"
     ]
    }
   ],
   "source": [
    "# Create a Counter of the penguins sex using a list comp\n",
    "penguins_sex_counts = Counter([penguin['Sex'] for penguin in penguins])\n",
    "\n",
    "# Print the penguins_sex_counts\n",
    "print(penguins_sex_counts)"
   ]
  },
  {
   "cell_type": "markdown",
   "metadata": {},
   "source": [
    "## 6.4.3 Finding most common elements"
   ]
  },
  {
   "cell_type": "code",
   "execution_count": 6,
   "metadata": {},
   "outputs": [
    {
     "name": "stdout",
     "output_type": "stream",
     "text": [
      "[('Chinstrap', 7), ('Adlie', 7), ('Gentoo', 6)]\n"
     ]
    }
   ],
   "source": [
    "# Create a Counter of the penguins list: penguins_species_counts\n",
    "penguins_species_counts = Counter([penguin['Species'] for penguin in penguins])\n",
    "\n",
    "# Find the 3 most common species counts\n",
    "print(penguins_species_counts.most_common(3))"
   ]
  },
  {
   "cell_type": "markdown",
   "metadata": {},
   "source": [
    "## 6.4.5 Creating dictionaries of an unknown structure"
   ]
  },
  {
   "cell_type": "code",
   "execution_count": 7,
   "metadata": {},
   "outputs": [],
   "source": [
    "from info import weight_log"
   ]
  },
  {
   "cell_type": "code",
   "execution_count": 8,
   "metadata": {},
   "outputs": [
    {
     "name": "stdout",
     "output_type": "stream",
     "text": [
      "[('FEMALE', 3450.0), ('FEMALE', 3550.0), ('FEMALE', 3175.0)]\n"
     ]
    }
   ],
   "source": [
    "# Create an empty dictionary: female_penguin_weights\n",
    "female_penguin_weights = {}\n",
    "\n",
    "# Iterate over the weight_log entries\n",
    "for species, sex, body_mass in weight_log:\n",
    "    # Check to see if species is already in the dictionary\n",
    "    if species not in female_penguin_weights:\n",
    "        # Create an empty list for any missing species\n",
    "        female_penguin_weights[species] = []\n",
    "    # Append the sex and body_mass as a tuple to the species keys list\n",
    "    female_penguin_weights[species].append((sex, body_mass))\n",
    "    \n",
    "# Print the weights for 'Adlie'\n",
    "print(female_penguin_weights['Adlie'])"
   ]
  },
  {
   "cell_type": "markdown",
   "metadata": {},
   "source": [
    "## 6.4.6 Safely appending to a key's value list"
   ]
  },
  {
   "cell_type": "code",
   "execution_count": 9,
   "metadata": {},
   "outputs": [],
   "source": [
    "from info import weight_log2 as weight_log"
   ]
  },
  {
   "cell_type": "code",
   "execution_count": 10,
   "metadata": {},
   "outputs": [
    {
     "name": "stdout",
     "output_type": "stream",
     "text": [
      "[('Gentoo', [5500.0, 5800.0, 5400.0, 5250.0, 4925.0]), ('Chinstrap', [4300.0, 4100.0, 4800.0, 3950.0, 3800.0, 4050.0])]\n"
     ]
    }
   ],
   "source": [
    "# Import defaultdict\n",
    "# from collections import defaultdict\n",
    "\n",
    "# Create a defaultdict with a default type of list: male_penguin_weights\n",
    "male_penguin_weights = defaultdict(list)\n",
    "\n",
    "# Iterate over the weight_log entries\n",
    "for species, sex, body_mass in weight_log:\n",
    "    # Use the species as the key, and append the body_mass to it\n",
    "    male_penguin_weights[species].append(body_mass)\n",
    "    \n",
    "# Print the first 2 items of the ridership dictionary\n",
    "print(list(male_penguin_weights.items())[:2])"
   ]
  },
  {
   "cell_type": "markdown",
   "metadata": {},
   "source": [
    "## 6.4.8 Creating namedtuples for storing data"
   ]
  },
  {
   "cell_type": "code",
   "execution_count": 11,
   "metadata": {},
   "outputs": [],
   "source": [
    "from info import weight_log3 as weight_log"
   ]
  },
  {
   "cell_type": "code",
   "execution_count": 12,
   "metadata": {},
   "outputs": [
    {
     "name": "stdout",
     "output_type": "stream",
     "text": [
      "[SpeciesDetails(species='Gentoo', sex='MALE', body_mass=5500.0), SpeciesDetails(species='Chinstrap', sex='MALE', body_mass=4300.0), SpeciesDetails(species='Adlie', sex='MALE', body_mass=3800.0), SpeciesDetails(species='Gentoo', sex='MALE', body_mass=5800.0), SpeciesDetails(species='Chinstrap', sex='MALE', body_mass=4100.0)]\n"
     ]
    }
   ],
   "source": [
    "# Import namedtuple from collections\n",
    "from collections import namedtuple\n",
    "\n",
    "# Create the namedtuple: SpeciesDetails\n",
    "SpeciesDetails = namedtuple('SpeciesDetails', ['species', 'sex', 'body_mass'])\n",
    "\n",
    "# Create the empty list: labeled_entries\n",
    "labeled_entries = []\n",
    "\n",
    "# Iterate over the weight_log entries\n",
    "for species, sex, body_mass in weight_log:\n",
    "    # Append a new SpeciesDetails namedtuple instance for each entry to labeled_entries\n",
    "    labeled_entries.append(SpeciesDetails(species, sex, body_mass))\n",
    "    \n",
    "print(labeled_entries[:5])"
   ]
  },
  {
   "cell_type": "markdown",
   "metadata": {},
   "source": [
    "## 6.4.9 Leveraging attributes on namedtuples"
   ]
  },
  {
   "cell_type": "code",
   "execution_count": 13,
   "metadata": {},
   "outputs": [
    {
     "name": "stdout",
     "output_type": "stream",
     "text": [
      "MALE:4300.0\n",
      "MALE:4100.0\n",
      "MALE:4800.0\n",
      "FEMALE:3800.0\n",
      "MALE:3950.0\n",
      "MALE:3800.0\n",
      "MALE:4050.0\n"
     ]
    }
   ],
   "source": [
    "# Iterate over the first twenty entries in labeled_entries\n",
    "for entry in labeled_entries[:20]:\n",
    "    # if the entry's species is Chinstrap\n",
    "    if entry.species == 'Chinstrap':\n",
    "      # Print each entry's sex and body_mass seperated by a colon\n",
    "        print(f'{entry.sex}:{entry.body_mass}')"
   ]
  },
  {
   "cell_type": "markdown",
   "metadata": {},
   "source": [
    "## 6.4.11 Creating a dataclass"
   ]
  },
  {
   "cell_type": "code",
   "execution_count": 16,
   "metadata": {},
   "outputs": [],
   "source": [
    "# Import dataclass\n",
    "# from dataclasses import dataclass\n",
    "\n",
    "@dataclass\n",
    "class WeightEntry:\n",
    "    # Define the fields on the class\n",
    "    species: str\n",
    "    flipper_length: int\n",
    "    body_mass: int\n",
    "    sex: str\n",
    "        \n",
    "    # Define a property that returns the body_mass / flipper_length\n",
    "    @property\n",
    "    def mass_to_flipper_length_ratio(self):\n",
    "        return self.body_mass / self.flipper_length"
   ]
  },
  {
   "cell_type": "markdown",
   "metadata": {},
   "source": [
    "## 6.4.12 Using dataclasses"
   ]
  },
  {
   "cell_type": "code",
   "execution_count": 18,
   "metadata": {},
   "outputs": [],
   "source": [
    "from info import weight_log4 as weight_log"
   ]
  },
  {
   "cell_type": "code",
   "execution_count": 19,
   "metadata": {},
   "outputs": [],
   "source": [
    "@dataclass\n",
    "class WeightEntry:\n",
    "    # Define the fields on the class\n",
    "    species: str\n",
    "    flipper_length: int\n",
    "    body_mass: int\n",
    "    sex: str\n",
    "\n",
    "    @property\n",
    "    def mass_to_flipper_length_ratio(self):\n",
    "        return self.body_mass / self.flipper_length"
   ]
  },
  {
   "cell_type": "code",
   "execution_count": 20,
   "metadata": {},
   "outputs": [
    {
     "name": "stdout",
     "output_type": "stream",
     "text": [
      "[23.91304347826087, 25.32751091703057, 24.0, 23.972602739726028, 20.476190476190474]\n"
     ]
    }
   ],
   "source": [
    "# Create the empty list: labeled_entries\n",
    "labeled_entries = []\n",
    "\n",
    "# Iterate over the weight_log entries\n",
    "for species, flipper_length, body_mass, sex in weight_log:\n",
    "    # Append a new WeightEntry instance to labeled_entries\n",
    "    labeled_entries.append(WeightEntry(species, sex, body_mass, flipper_length))\n",
    "    \n",
    "# Print a list of the first 5 mass_to_flipper_length_ratio values\n",
    "print([entry.mass_to_flipper_length_ratio for entry in labeled_entries[:5]])"
   ]
  },
  {
   "cell_type": "code",
   "execution_count": 14,
   "metadata": {},
   "outputs": [
    {
     "name": "stdout",
     "output_type": "stream",
     "text": [
      "Ok_\n"
     ]
    }
   ],
   "source": [
    "print('Ok_')"
   ]
  }
 ],
 "metadata": {
  "kernelspec": {
   "display_name": "Python 3",
   "language": "python",
   "name": "python3"
  },
  "language_info": {
   "codemirror_mode": {
    "name": "ipython",
    "version": 3
   },
   "file_extension": ".py",
   "mimetype": "text/x-python",
   "name": "python",
   "nbconvert_exporter": "python",
   "pygments_lexer": "ipython3",
   "version": "3.11.4"
  },
  "orig_nbformat": 4,
  "vscode": {
   "interpreter": {
    "hash": "5238573367df39f7286bb46f9ff5f08f63a01a80960060ce41e3c79b190280fa"
   }
  }
 },
 "nbformat": 4,
 "nbformat_minor": 2
}
