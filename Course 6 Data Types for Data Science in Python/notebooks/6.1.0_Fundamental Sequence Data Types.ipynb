{
 "cells": [
  {
   "cell_type": "code",
   "execution_count": 8,
   "metadata": {},
   "outputs": [
    {
     "name": "stdout",
     "output_type": "stream",
     "text": [
      "The autoreload extension is already loaded. To reload it, use:\n",
      "  %reload_ext autoreload\n"
     ]
    }
   ],
   "source": [
    "%load_ext autoreload\n",
    "%autoreload 2"
   ]
  },
  {
   "cell_type": "code",
   "execution_count": 9,
   "metadata": {},
   "outputs": [],
   "source": [
    "import pandas as pd\n",
    "import numpy as np\n",
    "\n",
    "pd.set_option('display.max_columns', None)\n",
    "pd.set_option('display.max_rows', None)\n",
    "import warnings\n",
    "warnings.filterwarnings(\"ignore\")"
   ]
  },
  {
   "cell_type": "code",
   "execution_count": 10,
   "metadata": {},
   "outputs": [],
   "source": [
    "import sys\n",
    "sys.path.append(\"../../../\") \n",
    "\n",
    "from utils.paths import make_dir_line\n",
    "\n",
    "modality = 'c'\n",
    "project = 'Data Types for Data Science in Python'\n",
    "data = make_dir_line(modality, project)\n",
    "\n",
    "raw = data('raw')"
   ]
  },
  {
   "cell_type": "markdown",
   "metadata": {},
   "source": [
    "# 6.1.0 Fundamental Sequence Data Types\n",
    "\n",
    "## 6.1.2 Manipulating lists for fun and profit"
   ]
  },
  {
   "cell_type": "code",
   "execution_count": 11,
   "metadata": {},
   "outputs": [
    {
     "name": "stdout",
     "output_type": "stream",
     "text": [
      "['Ximena', 'Aliza', 'Ayden', 'Calvin', 'Sandeep']\n"
     ]
    }
   ],
   "source": [
    "# Create a list containing the names: baby_names\n",
    "baby_names = ['Ximena', 'Aliza', 'Ayden', 'Calvin']\n",
    "\n",
    "# Extend baby_names with 'Rowen' and 'Sandeep'\n",
    "baby_names.extend(['Rowen', 'Sandeep'])\n",
    "\n",
    "# Find the position of 'Rowen': position\n",
    "position = baby_names.index('Rowen')\n",
    "\n",
    "# Remove 'Rowen' from baby_names\n",
    "name = baby_names.pop(position)\n",
    "\n",
    "# Print baby_names\n",
    "print(baby_names)"
   ]
  },
  {
   "cell_type": "markdown",
   "metadata": {},
   "source": [
    "## 6.1.3 Looping over lists"
   ]
  },
  {
   "cell_type": "code",
   "execution_count": 12,
   "metadata": {},
   "outputs": [],
   "source": [
    "records = [['2014', 'F', '20799', 'Emma'],\n",
    " ['2014', 'F', '19674', 'Olivia'],\n",
    " ['2014', 'F', '18490', 'Sophia'],\n",
    " ['2014', 'F', '16950', 'Isabella'],\n",
    " ['2014', 'F', '15586', 'Ava'],\n",
    " ['2014', 'F', '13442', 'Mia'],\n",
    " ['2014', 'F', '12562', 'Emily'],\n",
    " ['2014', 'F', '11985', 'Abigail'],\n",
    " ['2014', 'F', '10247', 'Madison'],\n",
    " ['2014', 'F', '10048', 'Charlotte'],\n",
    " ['2014', 'F', '9564', 'Harper'],\n",
    " ['2014', 'F', '9542', 'Sofia'],\n",
    " ['2014', 'F', '9517', 'Avery'],\n",
    " ['2014', 'F', '9492', 'Elizabeth'],\n",
    " ['2014', 'F', '8727', 'Amelia'],\n",
    " ['2014', 'F', '8692', 'Evelyn'],\n",
    " ['2014', 'F', '8489', 'Ella'],\n",
    " ['2014', 'F', '8469', 'Chloe'],\n",
    " ['2014', 'F', '7955', 'Victoria'],\n",
    " ['2014', 'F', '7589', 'Aubrey'],\n",
    " ['2014', 'F', '7554', 'Grace'],\n",
    " ['2014', 'F', '7358', 'Zoey'],\n",
    " ['2014', 'F', '7061', 'Natalie'],\n",
    " ['2014', 'F', '6950', 'Addison'],\n",
    " ['2014', 'F', '6869', 'Lillian'],\n",
    " ['2014', 'F', '6767', 'Brooklyn']]"
   ]
  },
  {
   "cell_type": "code",
   "execution_count": 13,
   "metadata": {},
   "outputs": [
    {
     "name": "stdout",
     "output_type": "stream",
     "text": [
      "['Abigail', 'Addison', 'Amelia', 'Aubrey', 'Ava', 'Avery', 'Brooklyn', 'Charlotte', 'Chloe', 'Elizabeth', 'Ella', 'Emily', 'Emma', 'Evelyn', 'Grace', 'Harper', 'Isabella', 'Lillian', 'Madison', 'Mia', 'Natalie', 'Olivia', 'Sofia', 'Sophia', 'Victoria', 'Zoey']\n"
     ]
    }
   ],
   "source": [
    "# Create the list comprehension: baby_names\n",
    "baby_names = [x[3] for x in records]\n",
    "    \n",
    "# Print the sorted baby names in ascending alphabetical order\n",
    "print(sorted(baby_names))"
   ]
  },
  {
   "cell_type": "code",
   "execution_count": null,
   "metadata": {},
   "outputs": [],
   "source": []
  },
  {
   "cell_type": "code",
   "execution_count": null,
   "metadata": {},
   "outputs": [],
   "source": []
  },
  {
   "cell_type": "code",
   "execution_count": 14,
   "metadata": {},
   "outputs": [
    {
     "name": "stdout",
     "output_type": "stream",
     "text": [
      "Ok_\n"
     ]
    }
   ],
   "source": [
    "print('Ok_')"
   ]
  }
 ],
 "metadata": {
  "kernelspec": {
   "display_name": "Python 3",
   "language": "python",
   "name": "python3"
  },
  "language_info": {
   "codemirror_mode": {
    "name": "ipython",
    "version": 3
   },
   "file_extension": ".py",
   "mimetype": "text/x-python",
   "name": "python",
   "nbconvert_exporter": "python",
   "pygments_lexer": "ipython3",
   "version": "3.11.4"
  },
  "orig_nbformat": 4,
  "vscode": {
   "interpreter": {
    "hash": "5238573367df39f7286bb46f9ff5f08f63a01a80960060ce41e3c79b190280fa"
   }
  }
 },
 "nbformat": 4,
 "nbformat_minor": 2
}
