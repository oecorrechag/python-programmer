{
 "cells": [
  {
   "cell_type": "code",
   "execution_count": 2,
   "metadata": {},
   "outputs": [],
   "source": [
    "%load_ext autoreload\n",
    "%autoreload 2"
   ]
  },
  {
   "cell_type": "code",
   "execution_count": 3,
   "metadata": {},
   "outputs": [],
   "source": [
    "import pandas as pd\n",
    "import numpy as np\n",
    "\n",
    "from info import squirrels\n",
    "\n",
    "pd.set_option('display.max_columns', None)\n",
    "pd.set_option('display.max_rows', None)\n",
    "import warnings\n",
    "warnings.filterwarnings(\"ignore\")"
   ]
  },
  {
   "cell_type": "code",
   "execution_count": 4,
   "metadata": {},
   "outputs": [],
   "source": [
    "import sys\n",
    "sys.path.append(\"../../../\") \n",
    "\n",
    "from utils.paths import make_dir_line\n",
    "\n",
    "modality = 'c'\n",
    "project = 'Data Types for Data Science in Python'\n",
    "data = make_dir_line(modality, project)\n",
    "\n",
    "raw = data('raw')"
   ]
  },
  {
   "cell_type": "markdown",
   "metadata": {},
   "source": [
    "# 6.2.0 Dictionaries - The Root of Python\n",
    "\n",
    "## 6.2.2 Creating and looping through dictionaries"
   ]
  },
  {
   "cell_type": "code",
   "execution_count": 5,
   "metadata": {},
   "outputs": [
    {
     "name": "stdout",
     "output_type": "stream",
     "text": [
      "City Hall Park: ('Gray', 'Cinnamon', 'Eating', 'Approaches')\n",
      "Highbridge Park: ('Gray', 'Cinnamon', 'Running, Eating', 'Runs From, watches us in short tree')\n",
      "J. Hood Wright Park: ('Gray', 'White', 'Running', 'Indifferent')\n",
      "Madison Square Park: ('Gray', None, 'Foraging', 'Indifferent')\n",
      "Marcus Garvey Park: ('Black', 'Cinnamon', 'Cleaning', None)\n",
      "Seward Park: ('Gray', 'Cinnamon', 'Eating', 'Indifferent')\n",
      "Tompkins Square Park: ('Gray', 'Gray', 'Lounging', 'Approaches')\n",
      "Union Square Park: ('Gray', 'Black', 'Climbing', None)\n"
     ]
    }
   ],
   "source": [
    "# Create an empty dictionary: squirrels_by_park\n",
    "squirrels_by_park = {}\n",
    "\n",
    "# Loop over the squirrels list and unpack each tuple\n",
    "for park, squirrel_details in squirrels:\n",
    "    # Add each squirrel_details to the squirrels_by_park dictionary\n",
    "    squirrels_by_park[park] = squirrel_details\n",
    "    \n",
    "# Sort the names_by_rank alphabetically dict by park\n",
    "for park in sorted(squirrels_by_park):\n",
    "    # Print each park and it's value in squirrels_by_park\n",
    "    print(f'{park}: {squirrels_by_park[park]}')"
   ]
  },
  {
   "cell_type": "code",
   "execution_count": null,
   "metadata": {},
   "outputs": [],
   "source": []
  },
  {
   "cell_type": "code",
   "execution_count": null,
   "metadata": {},
   "outputs": [],
   "source": []
  },
  {
   "cell_type": "code",
   "execution_count": 6,
   "metadata": {},
   "outputs": [
    {
     "name": "stdout",
     "output_type": "stream",
     "text": [
      "Ok_\n"
     ]
    }
   ],
   "source": [
    "print('Ok_')"
   ]
  }
 ],
 "metadata": {
  "kernelspec": {
   "display_name": "Python 3",
   "language": "python",
   "name": "python3"
  },
  "language_info": {
   "codemirror_mode": {
    "name": "ipython",
    "version": 3
   },
   "file_extension": ".py",
   "mimetype": "text/x-python",
   "name": "python",
   "nbconvert_exporter": "python",
   "pygments_lexer": "ipython3",
   "version": "3.11.4"
  },
  "orig_nbformat": 4,
  "vscode": {
   "interpreter": {
    "hash": "5238573367df39f7286bb46f9ff5f08f63a01a80960060ce41e3c79b190280fa"
   }
  }
 },
 "nbformat": 4,
 "nbformat_minor": 2
}
